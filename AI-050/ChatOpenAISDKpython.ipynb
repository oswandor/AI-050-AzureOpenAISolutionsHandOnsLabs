{
 "cells": [
  {
   "cell_type": "code",
   "execution_count": 24,
   "metadata": {},
   "outputs": [
    {
     "name": "stdout",
     "output_type": "stream",
     "text": [
      "Requirement already satisfied: openai in c:\\users\\ronalgonzalez\\appdata\\local\\programs\\python\\python310\\lib\\site-packages (1.42.0)Note: you may need to restart the kernel to use updated packages.\n",
      "\n",
      "Requirement already satisfied: distro<2,>=1.7.0 in c:\\users\\ronalgonzalez\\appdata\\local\\programs\\python\\python310\\lib\\site-packages (from openai) (1.9.0)\n",
      "Requirement already satisfied: anyio<5,>=3.5.0 in c:\\users\\ronalgonzalez\\appdata\\local\\programs\\python\\python310\\lib\\site-packages (from openai) (4.4.0)\n",
      "Requirement already satisfied: typing-extensions<5,>=4.11 in c:\\users\\ronalgonzalez\\appdata\\roaming\\python\\python310\\site-packages (from openai) (4.12.2)\n",
      "Requirement already satisfied: tqdm>4 in c:\\users\\ronalgonzalez\\appdata\\local\\programs\\python\\python310\\lib\\site-packages (from openai) (4.66.5)\n",
      "Requirement already satisfied: sniffio in c:\\users\\ronalgonzalez\\appdata\\local\\programs\\python\\python310\\lib\\site-packages (from openai) (1.3.1)\n",
      "Requirement already satisfied: httpx<1,>=0.23.0 in c:\\users\\ronalgonzalez\\appdata\\local\\programs\\python\\python310\\lib\\site-packages (from openai) (0.27.0)\n",
      "Requirement already satisfied: jiter<1,>=0.4.0 in c:\\users\\ronalgonzalez\\appdata\\local\\programs\\python\\python310\\lib\\site-packages (from openai) (0.5.0)\n",
      "Requirement already satisfied: pydantic<3,>=1.9.0 in c:\\users\\ronalgonzalez\\appdata\\local\\programs\\python\\python310\\lib\\site-packages (from openai) (2.8.2)\n",
      "Requirement already satisfied: exceptiongroup>=1.0.2 in c:\\users\\ronalgonzalez\\appdata\\roaming\\python\\python310\\site-packages (from anyio<5,>=3.5.0->openai) (1.2.2)\n",
      "Requirement already satisfied: idna>=2.8 in c:\\users\\ronalgonzalez\\appdata\\local\\programs\\python\\python310\\lib\\site-packages (from anyio<5,>=3.5.0->openai) (3.8)\n",
      "Requirement already satisfied: certifi in c:\\users\\ronalgonzalez\\appdata\\local\\programs\\python\\python310\\lib\\site-packages (from httpx<1,>=0.23.0->openai) (2024.7.4)\n",
      "Requirement already satisfied: httpcore==1.* in c:\\users\\ronalgonzalez\\appdata\\local\\programs\\python\\python310\\lib\\site-packages (from httpx<1,>=0.23.0->openai) (1.0.5)\n",
      "Requirement already satisfied: h11<0.15,>=0.13 in c:\\users\\ronalgonzalez\\appdata\\local\\programs\\python\\python310\\lib\\site-packages (from httpcore==1.*->httpx<1,>=0.23.0->openai) (0.14.0)\n",
      "Requirement already satisfied: annotated-types>=0.4.0 in c:\\users\\ronalgonzalez\\appdata\\local\\programs\\python\\python310\\lib\\site-packages (from pydantic<3,>=1.9.0->openai) (0.7.0)\n",
      "Requirement already satisfied: pydantic-core==2.20.1 in c:\\users\\ronalgonzalez\\appdata\\local\\programs\\python\\python310\\lib\\site-packages (from pydantic<3,>=1.9.0->openai) (2.20.1)\n",
      "Requirement already satisfied: colorama in c:\\users\\ronalgonzalez\\appdata\\roaming\\python\\python310\\site-packages (from tqdm>4->openai) (0.4.6)\n"
     ]
    },
    {
     "name": "stderr",
     "output_type": "stream",
     "text": [
      "\n",
      "[notice] A new release of pip is available: 23.0.1 -> 24.2\n",
      "[notice] To update, run: python.exe -m pip install --upgrade pip\n"
     ]
    },
    {
     "name": "stdout",
     "output_type": "stream",
     "text": [
      "Requirement already satisfied: python-dotenv in c:\\users\\ronalgonzalez\\appdata\\local\\programs\\python\\python310\\lib\\site-packages (1.0.1)\n",
      "Note: you may need to restart the kernel to use updated packages.\n"
     ]
    },
    {
     "name": "stderr",
     "output_type": "stream",
     "text": [
      "\n",
      "[notice] A new release of pip is available: 23.0.1 -> 24.2\n",
      "[notice] To update, run: python.exe -m pip install --upgrade pip\n"
     ]
    }
   ],
   "source": [
    "%pip install openai\n",
    "%pip install python-dotenv"
   ]
  },
  {
   "cell_type": "code",
   "execution_count": 25,
   "metadata": {},
   "outputs": [],
   "source": [
    "import os\n",
    "from openai import AzureOpenAI\n",
    "from dotenv import load_dotenv, find_dotenv"
   ]
  },
  {
   "cell_type": "code",
   "execution_count": 26,
   "metadata": {},
   "outputs": [
    {
     "name": "stdout",
     "output_type": "stream",
     "text": [
      "Archivo .env cargado desde: c:\\Users\\RonalGonzalez\\Documents\\projects\\machine-learning\\notebooks\\AI-050\\.env\n"
     ]
    }
   ],
   "source": [
    "# Encontrar y cargar el archivo .env\n",
    "dotenv_path = find_dotenv()\n",
    "if dotenv_path == \"\":\n",
    "    print(\"Archivo .env no encontrado\")\n",
    "else:\n",
    "    load_dotenv(dotenv_path)\n",
    "    print(f\"Archivo .env cargado desde: {dotenv_path}\")\n",
    "\n"
   ]
  },
  {
   "cell_type": "code",
   "execution_count": 27,
   "metadata": {},
   "outputs": [
    {
     "name": "stdout",
     "output_type": "stream",
     "text": [
      "https://openaiazurespeechtext.openai.azure.com/\n",
      "6d677ff4727245d69334a1386293d7a2\n"
     ]
    }
   ],
   "source": [
    "\n",
    "# Acceder a las variables de entorno\n",
    "api_endpoint = os.getenv(\"AZURE_OPENAI_ENDPOINT\")\n",
    "secret_key = \"6d677ff4727245d69334a1386293d7a2\"\n",
    "\n",
    "print(api_endpoint)\n",
    "print(secret_key)"
   ]
  },
  {
   "cell_type": "code",
   "execution_count": 28,
   "metadata": {},
   "outputs": [
    {
     "name": "stdout",
     "output_type": "stream",
     "text": [
      "https://openaiazurespeechtext.openai.azure.com/\n",
      "6d677ff4727245d69334a1386293d7a2\n"
     ]
    }
   ],
   "source": [
    "client = AzureOpenAI(\n",
    "  azure_endpoint = api_endpoint, \n",
    "  api_key=secret_key,  \n",
    "  api_version=\"2024-02-15-preview\"\n",
    ")\n",
    "print(api_endpoint)\n",
    "print(secret_key)"
   ]
  },
  {
   "cell_type": "code",
   "execution_count": 29,
   "metadata": {},
   "outputs": [
    {
     "name": "stdout",
     "output_type": "stream",
     "text": [
      "Yes, various Azure AI services support customer-managed keys (CMK) to enhance data security and compliance by allowing customers to control the encryption keys used to protect their data. Some of the services that support CMK include:\n",
      "\n",
      "1. **Azure Cognitive Services**: Several Cognitive Services, such as Text Analytics, Computer Vision, and Azure Cognitive Search, offer support for customer-managed keys.\n",
      "\n",
      "2. **Azure Machine Learning**: This service supports CMK for encryption of data at rest, including the encryption of workspace data stored in the Azure Cosmos DB, Azure Storage accounts, and more.\n",
      "\n",
      "3. **Azure Synapse Analytics**: Azure Synapse provides support for customer-managed keys to secure data in Synapse workspaces.\n",
      "\n",
      "It's always good to check the latest Azure documentation for specific details and updates regarding the support for customer-managed keys for any particular service, as Microsoft regularly updates and expands its offerings.\n"
     ]
    }
   ],
   "source": [
    "\n",
    "response = client.chat.completions.create(\n",
    "    model=\"gpt-4omodel\", # model = \"deployment_name\".\n",
    "    messages=[\n",
    "        {\"role\": \"system\", \"content\": \"You are a helpful assistant.\"},\n",
    "        {\"role\": \"user\", \"content\": \"Does Azure OpenAI support customer managed keys?\"},\n",
    "        {\"role\": \"assistant\", \"content\": \"Yes, customer managed keys are supported by Azure OpenAI.\"},\n",
    "        {\"role\": \"user\", \"content\": \"Do other Azure AI services support this too?\"}\n",
    "    ]\n",
    ")\n",
    "\n",
    "print(response.choices[0].message.content)"
   ]
  }
 ],
 "metadata": {
  "kernelspec": {
   "display_name": "Python 3",
   "language": "python",
   "name": "python3"
  },
  "language_info": {
   "codemirror_mode": {
    "name": "ipython",
    "version": 3
   },
   "file_extension": ".py",
   "mimetype": "text/x-python",
   "name": "python",
   "nbconvert_exporter": "python",
   "pygments_lexer": "ipython3",
   "version": "3.10.11"
  }
 },
 "nbformat": 4,
 "nbformat_minor": 2
}
