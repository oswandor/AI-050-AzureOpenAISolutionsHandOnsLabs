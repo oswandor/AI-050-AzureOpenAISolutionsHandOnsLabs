{
 "cells": [
  {
   "cell_type": "code",
   "execution_count": 1,
   "metadata": {},
   "outputs": [
    {
     "name": "stdout",
     "output_type": "stream",
     "text": [
      "Note: you may need to restart the kernel to use updated packages.\n"
     ]
    },
    {
     "name": "stderr",
     "output_type": "stream",
     "text": [
      "ERROR: Could not find a version that satisfies the requirement base64 (from versions: none)\n",
      "ERROR: No matching distribution found for base64\n",
      "\n",
      "[notice] A new release of pip is available: 23.0.1 -> 24.2\n",
      "[notice] To update, run: python.exe -m pip install --upgrade pip\n"
     ]
    },
    {
     "name": "stdout",
     "output_type": "stream",
     "text": [
      "Requirement already satisfied: requests in c:\\users\\ronalgonzalez\\appdata\\local\\programs\\python\\python310\\lib\\site-packages (2.32.3)\n",
      "Requirement already satisfied: charset-normalizer<4,>=2 in c:\\users\\ronalgonzalez\\appdata\\local\\programs\\python\\python310\\lib\\site-packages (from requests) (3.3.2)\n",
      "Requirement already satisfied: idna<4,>=2.5 in c:\\users\\ronalgonzalez\\appdata\\local\\programs\\python\\python310\\lib\\site-packages (from requests) (3.8)\n",
      "Requirement already satisfied: certifi>=2017.4.17 in c:\\users\\ronalgonzalez\\appdata\\local\\programs\\python\\python310\\lib\\site-packages (from requests) (2024.7.4)\n",
      "Requirement already satisfied: urllib3<3,>=1.21.1 in c:\\users\\ronalgonzalez\\appdata\\local\\programs\\python\\python310\\lib\\site-packages (from requests) (2.2.2)\n",
      "Note: you may need to restart the kernel to use updated packages.\n"
     ]
    },
    {
     "name": "stderr",
     "output_type": "stream",
     "text": [
      "\n",
      "[notice] A new release of pip is available: 23.0.1 -> 24.2\n",
      "[notice] To update, run: python.exe -m pip install --upgrade pip\n"
     ]
    }
   ],
   "source": [
    "%pip install base64\n",
    "%pip install requests"
   ]
  },
  {
   "cell_type": "code",
   "execution_count": 4,
   "metadata": {},
   "outputs": [
    {
     "name": "stdout",
     "output_type": "stream",
     "text": [
      "{'choices': [{'content_filter_results': {'hate': {'filtered': False, 'severity': 'safe'}, 'protected_material_code': {'filtered': False, 'detected': False}, 'protected_material_text': {'filtered': False, 'detected': False}, 'self_harm': {'filtered': False, 'severity': 'safe'}, 'sexual': {'filtered': False, 'severity': 'safe'}, 'violence': {'filtered': False, 'severity': 'safe'}}, 'finish_reason': 'stop', 'index': 0, 'logprobs': None, 'message': {'content': 'Kubernetes es una plataforma de código abierto diseñada para automatizar la implementación, el escalado y la operación de aplicaciones en contenedores. Originalmente desarrollado por Google, ahora es mantenido por la Cloud Native Computing Foundation (CNCF).\\n\\n### Características principales de Kubernetes:\\n\\n1. **Orquestación de contenedores**: Administra de manera eficiente la distribución y ejecución de contenedores en un clúster de máquinas.\\n2. **Escalabilidad**: Permite escalar aplicaciones hacia arriba o hacia abajo automáticamente según la demanda.\\n3. **Autoreparación**: Reinicia contenedores que fallan, reemplaza y reprograma contenedores cuando los nodos mueren y mata contenedores que no responden a los controles de salud definidos por el usuario.\\n4. **Implementaciones y rollbacks**: Facilita la implementación de cambios en las aplicaciones y la capacidad de revertir a versiones anteriores en caso de problemas.\\n5. **Gestión del almacenamiento**: Monta automáticamente el sistema de almacenamiento que prefieras, ya sea local, en la nube, o en una red de almacenamiento.\\n6. **Configuración y secretos**: Administra y almacena información confidencial y configuraciones sin necesidad de reconstruir las imágenes de contenedor.\\n7. **Balanceo de carga y descubrimiento de servicios**: Expone un contenedor usando el nombre del DNS o su propia dirección IP y puede balancear la carga entre múltiples instancias de una aplicación.\\n\\n### Componentes principales de Kubernetes:\\n\\n1. **Nodo maestro (Master Node)**: Controla y gestiona el clúster de Kubernetes. Incluye componentes como el API Server, Scheduler, Controller Manager y etcd (almacenamiento de datos).\\n2. **Nodos de trabajo (Worker Nodes)**: Ejecutan las aplicaciones en contenedores. Cada nodo contiene un kubelet (agente que asegura que los contenedores se ejecuten en un pod) y un runtime de contenedor (como Docker o containerd).\\n3. **Pods**: La unidad más pequeña y básica de Kubernetes, que puede contener uno o más contenedores.\\n4. **Servicios (Services)**: Abstracciones que definen un conjunto lógico de pods y una política para acceder a ellos.\\n5. **Namespaces**: Permiten la segmentación de un clúster Kubernetes en múltiples entornos virtuales.\\n\\nKubernetes se ha convertido en una herramienta esencial para gestionar aplicaciones en contenedores debido a su capacidad para facilitar la operación de aplicaciones distribuidas, mejorar la eficiencia de recursos y proporcionar una infraestructura más resiliente y escalable.', 'role': 'assistant'}}], 'created': 1724639234, 'id': 'chatcmpl-A0JjmibKJ3EtSPuDqNnniUGEvCisX', 'model': 'gpt-4o-2024-05-13', 'object': 'chat.completion', 'prompt_filter_results': [{'prompt_index': 0, 'content_filter_results': {}}], 'system_fingerprint': 'fp_abc28019ad', 'usage': {'completion_tokens': 535, 'prompt_tokens': 33, 'total_tokens': 568}}\n",
      "\n",
      "\n",
      "Kubernetes es una plataforma de código abierto diseñada para automatizar la implementación, el escalado y la operación de aplicaciones en contenedores. Originalmente desarrollado por Google, ahora es mantenido por la Cloud Native Computing Foundation (CNCF).\n",
      "\n",
      "### Características principales de Kubernetes:\n",
      "\n",
      "1. **Orquestación de contenedores**: Administra de manera eficiente la distribución y ejecución de contenedores en un clúster de máquinas.\n",
      "2. **Escalabilidad**: Permite escalar aplicaciones hacia arriba o hacia abajo automáticamente según la demanda.\n",
      "3. **Autoreparación**: Reinicia contenedores que fallan, reemplaza y reprograma contenedores cuando los nodos mueren y mata contenedores que no responden a los controles de salud definidos por el usuario.\n",
      "4. **Implementaciones y rollbacks**: Facilita la implementación de cambios en las aplicaciones y la capacidad de revertir a versiones anteriores en caso de problemas.\n",
      "5. **Gestión del almacenamiento**: Monta automáticamente el sistema de almacenamiento que prefieras, ya sea local, en la nube, o en una red de almacenamiento.\n",
      "6. **Configuración y secretos**: Administra y almacena información confidencial y configuraciones sin necesidad de reconstruir las imágenes de contenedor.\n",
      "7. **Balanceo de carga y descubrimiento de servicios**: Expone un contenedor usando el nombre del DNS o su propia dirección IP y puede balancear la carga entre múltiples instancias de una aplicación.\n",
      "\n",
      "### Componentes principales de Kubernetes:\n",
      "\n",
      "1. **Nodo maestro (Master Node)**: Controla y gestiona el clúster de Kubernetes. Incluye componentes como el API Server, Scheduler, Controller Manager y etcd (almacenamiento de datos).\n",
      "2. **Nodos de trabajo (Worker Nodes)**: Ejecutan las aplicaciones en contenedores. Cada nodo contiene un kubelet (agente que asegura que los contenedores se ejecuten en un pod) y un runtime de contenedor (como Docker o containerd).\n",
      "3. **Pods**: La unidad más pequeña y básica de Kubernetes, que puede contener uno o más contenedores.\n",
      "4. **Servicios (Services)**: Abstracciones que definen un conjunto lógico de pods y una política para acceder a ellos.\n",
      "5. **Namespaces**: Permiten la segmentación de un clúster Kubernetes en múltiples entornos virtuales.\n",
      "\n",
      "Kubernetes se ha convertido en una herramienta esencial para gestionar aplicaciones en contenedores debido a su capacidad para facilitar la operación de aplicaciones distribuidas, mejorar la eficiencia de recursos y proporcionar una infraestructura más resiliente y escalable.\n"
     ]
    }
   ],
   "source": [
    "import os\n",
    "import requests\n",
    "import base64\n",
    "\n",
    "# Configuration\n",
    "API_KEY = \"6d677ff4727245d69334a1386293d7a2\"\n",
    "\n",
    "headers = {\n",
    "    \"Content-Type\": \"application/json\",\n",
    "    \"api-key\": API_KEY,\n",
    "}\n",
    "\n",
    "# Payload for the request\n",
    "payload = {\n",
    "  \"messages\": [\n",
    "    {\n",
    "      \"role\": \"system\",\n",
    "      \"content\": [\n",
    "        {\n",
    "          \"type\": \"text\",\n",
    "          \"text\": \"You are an AI assistant that helps people find information.\"\n",
    "        }\n",
    "      ]\n",
    "    },\n",
    "    {\n",
    "      \"role\": \"user\",\n",
    "      \"content\": [\n",
    "        {\n",
    "          \"type\": \"text\",\n",
    "          \"text\": \"que es kubernetes ?\"\n",
    "        }\n",
    "      ]\n",
    "    },\n",
    "    {\n",
    "      \"role\": \"user\",\n",
    "      \"content\": [\n",
    "        {\n",
    "          \"type\": \"text\",\n",
    "          \"text\": \"\\n\"\n",
    "        }\n",
    "      ]\n",
    "    }\n",
    "  ],\n",
    "  \"temperature\": 0.5,\n",
    "  \"top_p\": 0.95,\n",
    "  \"max_tokens\": 800\n",
    "}\n",
    "\n",
    "ENDPOINT = \"https://openaiazurespeechtext.openai.azure.com/openai/deployments/gpt-4omodel/chat/completions?api-version=2024-02-15-preview\"\n",
    "\n",
    "# Send request\n",
    "try:\n",
    "    response = requests.post(ENDPOINT, headers=headers, json=payload)\n",
    "    response.raise_for_status()  # Will raise an HTTPError if the HTTP request returned an unsuccessful status code\n",
    "except requests.RequestException as e:\n",
    "    raise SystemExit(f\"Failed to make the request. Error: {e}\")\n",
    "\n",
    "# Handle the response as needed (e.g., print or process)\n",
    "print(response.json())\n",
    "\n",
    "# write break line\n",
    "print(\"\\n\")\n",
    "# Handle the response as needed (e.g., print or process)\n",
    "response_json = response.json()\n",
    "\n",
    "# Extraer y mostrar solo el contenido del mensaje\n",
    "content = response_json['choices'][0]['message']['content']\n",
    "print(content)"
   ]
  }
 ],
 "metadata": {
  "kernelspec": {
   "display_name": "Python 3",
   "language": "python",
   "name": "python3"
  },
  "language_info": {
   "codemirror_mode": {
    "name": "ipython",
    "version": 3
   },
   "file_extension": ".py",
   "mimetype": "text/x-python",
   "name": "python",
   "nbconvert_exporter": "python",
   "pygments_lexer": "ipython3",
   "version": "3.10.11"
  }
 },
 "nbformat": 4,
 "nbformat_minor": 2
}
