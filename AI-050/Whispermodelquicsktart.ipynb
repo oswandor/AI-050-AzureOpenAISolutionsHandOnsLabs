{
 "cells": [
  {
   "cell_type": "code",
   "execution_count": 1,
   "metadata": {},
   "outputs": [
    {
     "name": "stdout",
     "output_type": "stream",
     "text": [
      "Requirement already satisfied: openai in c:\\users\\ronalgonzalez\\appdata\\local\\programs\\python\\python310\\lib\\site-packages (1.42.0)\n",
      "Requirement already satisfied: typing-extensions<5,>=4.11 in c:\\users\\ronalgonzalez\\appdata\\roaming\\python\\python310\\site-packages (from openai) (4.12.2)\n",
      "Requirement already satisfied: distro<2,>=1.7.0 in c:\\users\\ronalgonzalez\\appdata\\local\\programs\\python\\python310\\lib\\site-packages (from openai) (1.9.0)\n",
      "Requirement already satisfied: httpx<1,>=0.23.0 in c:\\users\\ronalgonzalez\\appdata\\local\\programs\\python\\python310\\lib\\site-packages (from openai) (0.27.0)\n",
      "Requirement already satisfied: tqdm>4 in c:\\users\\ronalgonzalez\\appdata\\local\\programs\\python\\python310\\lib\\site-packages (from openai) (4.66.5)\n",
      "Requirement already satisfied: pydantic<3,>=1.9.0 in c:\\users\\ronalgonzalez\\appdata\\local\\programs\\python\\python310\\lib\\site-packages (from openai) (2.8.2)\n",
      "Requirement already satisfied: anyio<5,>=3.5.0 in c:\\users\\ronalgonzalez\\appdata\\local\\programs\\python\\python310\\lib\\site-packages (from openai) (4.4.0)\n",
      "Requirement already satisfied: sniffio in c:\\users\\ronalgonzalez\\appdata\\local\\programs\\python\\python310\\lib\\site-packages (from openai) (1.3.1)\n",
      "Requirement already satisfied: jiter<1,>=0.4.0 in c:\\users\\ronalgonzalez\\appdata\\local\\programs\\python\\python310\\lib\\site-packages (from openai) (0.5.0)\n",
      "Requirement already satisfied: idna>=2.8 in c:\\users\\ronalgonzalez\\appdata\\local\\programs\\python\\python310\\lib\\site-packages (from anyio<5,>=3.5.0->openai) (3.8)\n",
      "Requirement already satisfied: exceptiongroup>=1.0.2 in c:\\users\\ronalgonzalez\\appdata\\roaming\\python\\python310\\site-packages (from anyio<5,>=3.5.0->openai) (1.2.2)\n",
      "Requirement already satisfied: httpcore==1.* in c:\\users\\ronalgonzalez\\appdata\\local\\programs\\python\\python310\\lib\\site-packages (from httpx<1,>=0.23.0->openai) (1.0.5)\n",
      "Requirement already satisfied: certifi in c:\\users\\ronalgonzalez\\appdata\\local\\programs\\python\\python310\\lib\\site-packages (from httpx<1,>=0.23.0->openai) (2024.7.4)\n",
      "Requirement already satisfied: h11<0.15,>=0.13 in c:\\users\\ronalgonzalez\\appdata\\local\\programs\\python\\python310\\lib\\site-packages (from httpcore==1.*->httpx<1,>=0.23.0->openai) (0.14.0)\n",
      "Requirement already satisfied: pydantic-core==2.20.1 in c:\\users\\ronalgonzalez\\appdata\\local\\programs\\python\\python310\\lib\\site-packages (from pydantic<3,>=1.9.0->openai) (2.20.1)\n",
      "Requirement already satisfied: annotated-types>=0.4.0 in c:\\users\\ronalgonzalez\\appdata\\local\\programs\\python\\python310\\lib\\site-packages (from pydantic<3,>=1.9.0->openai) (0.7.0)\n",
      "Requirement already satisfied: colorama in c:\\users\\ronalgonzalez\\appdata\\roaming\\python\\python310\\site-packages (from tqdm>4->openai) (0.4.6)\n",
      "Note: you may need to restart the kernel to use updated packages.\n"
     ]
    },
    {
     "name": "stderr",
     "output_type": "stream",
     "text": [
      "\n",
      "[notice] A new release of pip is available: 23.0.1 -> 24.2\n",
      "[notice] To update, run: python.exe -m pip install --upgrade pip\n"
     ]
    }
   ],
   "source": [
    "%pip install openai"
   ]
  },
  {
   "cell_type": "code",
   "execution_count": null,
   "metadata": {},
   "outputs": [],
   "source": [
    "AZURE_OPENAI_API_KEY  = \"6d677ff4727245d69334a1386293d7a2\"\n",
    "AZURE_OPENAI_ENDPOINT = \"https://openaiazurespeechtext.openai.azure.com/openai/deployments/whisper/audio/translations?api-version=2024-06-01\""
   ]
  },
  {
   "cell_type": "code",
   "execution_count": null,
   "metadata": {},
   "outputs": [],
   "source": [
    "import os\n",
    "from openai import AzureOpenAI\n",
    "        \n",
    "    client = AzureOpenAI(\n",
    "        api_key=AZURE_OPENAI_API_KEY,  \n",
    "        api_version=\"2024-02-01\",\n",
    "        azure_endpoint = AZURE_OPENAI_ENDPOINT\n",
    "    )\n",
    "    \n",
    "    deployment_id = \"YOUR-DEPLOYMENT-NAME-HERE\" #This will correspond to the custom name you chose for your deployment when you deployed a model.\"\n",
    "    audio_test_file = \"./wikipediaOcelot.wav\"\n",
    "    \n",
    "    result = client.audio.transcriptions.create(\n",
    "        file=open(audio_test_file, \"rb\"),            \n",
    "        model=deployment_id\n",
    "    )\n",
    "    \n",
    "    print(result)"
   ]
  }
 ],
 "metadata": {
  "kernelspec": {
   "display_name": "Python 3",
   "language": "python",
   "name": "python3"
  },
  "language_info": {
   "codemirror_mode": {
    "name": "ipython",
    "version": 3
   },
   "file_extension": ".py",
   "mimetype": "text/x-python",
   "name": "python",
   "nbconvert_exporter": "python",
   "pygments_lexer": "ipython3",
   "version": "3.10.11"
  }
 },
 "nbformat": 4,
 "nbformat_minor": 2
}
